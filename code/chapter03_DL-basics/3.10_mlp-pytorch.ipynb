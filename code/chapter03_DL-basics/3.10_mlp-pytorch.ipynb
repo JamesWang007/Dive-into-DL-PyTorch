{
 "cells": [
  {
   "cell_type": "markdown",
   "metadata": {},
   "source": [
    "# 3.10 多层感知机的简洁实现"
   ]
  },
  {
   "cell_type": "code",
   "execution_count": 4,
   "metadata": {},
   "outputs": [
    {
     "name": "stdout",
     "output_type": "stream",
     "text": [
      "1.3.0.post2\n"
     ]
    }
   ],
   "source": [
    "import torch\n",
    "from torch import nn\n",
    "from torch.nn import init\n",
    "import numpy as np\n",
    "import sys\n",
    "sys.path.append(\"..\") \n",
    "import d2lzh_pytorch as d2l\n",
    "\n",
    "print(torch.__version__)"
   ]
  },
  {
   "cell_type": "code",
   "execution_count": 5,
   "metadata": {},
   "outputs": [
    {
     "name": "stdout",
     "output_type": "stream",
     "text": [
      "['/Users/haiyangwang/Github/Dive-into-DL-PyTorch/code/chapter03_DL-basics', '/Users/haiyangwang/anaconda3/envs/mlbook/lib/python37.zip', '/Users/haiyangwang/anaconda3/envs/mlbook/lib/python3.7', '/Users/haiyangwang/anaconda3/envs/mlbook/lib/python3.7/lib-dynload', '', '/Users/haiyangwang/.local/lib/python3.7/site-packages', '/Users/haiyangwang/anaconda3/envs/mlbook/lib/python3.7/site-packages', '/Users/haiyangwang/anaconda3/envs/mlbook/lib/python3.7/site-packages/aeosa', '/Users/haiyangwang/anaconda3/envs/mlbook/lib/python3.7/site-packages/IPython/extensions', '/Users/haiyangwang/.ipython', '..', '..', '..', '..']\n"
     ]
    }
   ],
   "source": [
    "print(sys.path)"
   ]
  },
  {
   "cell_type": "markdown",
   "metadata": {},
   "source": [
    "## 3.10.1 定义模型"
   ]
  },
  {
   "cell_type": "code",
   "execution_count": 8,
   "metadata": {},
   "outputs": [],
   "source": [
    "num_inputs, num_outputs, num_hiddens = 784, 10, 256\n",
    "    \n",
    "net = nn.Sequential(\n",
    "        d2l.FlattenLayer(),\n",
    "        nn.Linear(num_inputs, num_hiddens),\n",
    "        nn.ReLU(),\n",
    "        nn.Linear(num_hiddens, num_outputs), \n",
    "        )\n",
    "    \n",
    "for params in net.parameters():\n",
    "    init.normal_(params, mean=0, std=0.01)"
   ]
  },
  {
   "cell_type": "markdown",
   "metadata": {},
   "source": [
    "## 3.10.2 读取数据并训练模型"
   ]
  },
  {
   "cell_type": "code",
   "execution_count": 9,
   "metadata": {},
   "outputs": [
    {
     "name": "stderr",
     "output_type": "stream",
     "text": [
      "\r",
      "0it [00:00, ?it/s]"
     ]
    },
    {
     "name": "stdout",
     "output_type": "stream",
     "text": [
      "Downloading http://fashion-mnist.s3-website.eu-central-1.amazonaws.com/train-images-idx3-ubyte.gz to /Users/haiyangwang/Datasets/FashionMNIST/FashionMNIST/raw/train-images-idx3-ubyte.gz\n"
     ]
    },
    {
     "name": "stderr",
     "output_type": "stream",
     "text": [
      " 97%|█████████▋| 25632768/26421880 [00:12<00:00, 6931347.04it/s]"
     ]
    },
    {
     "name": "stdout",
     "output_type": "stream",
     "text": [
      "Extracting /Users/haiyangwang/Datasets/FashionMNIST/FashionMNIST/raw/train-images-idx3-ubyte.gz to /Users/haiyangwang/Datasets/FashionMNIST/FashionMNIST/raw\n"
     ]
    },
    {
     "name": "stderr",
     "output_type": "stream",
     "text": [
      "\n",
      "0it [00:00, ?it/s]\u001b[A"
     ]
    },
    {
     "name": "stdout",
     "output_type": "stream",
     "text": [
      "Downloading http://fashion-mnist.s3-website.eu-central-1.amazonaws.com/train-labels-idx1-ubyte.gz to /Users/haiyangwang/Datasets/FashionMNIST/FashionMNIST/raw/train-labels-idx1-ubyte.gz\n"
     ]
    },
    {
     "name": "stderr",
     "output_type": "stream",
     "text": [
      "\n",
      "  0%|          | 0/29515 [00:00<?, ?it/s]\u001b[A\n",
      "32768it [00:00, 58882.20it/s]                           \u001b[A\n",
      "\n",
      "0it [00:00, ?it/s]\u001b[A"
     ]
    },
    {
     "name": "stdout",
     "output_type": "stream",
     "text": [
      "Extracting /Users/haiyangwang/Datasets/FashionMNIST/FashionMNIST/raw/train-labels-idx1-ubyte.gz to /Users/haiyangwang/Datasets/FashionMNIST/FashionMNIST/raw\n",
      "Downloading http://fashion-mnist.s3-website.eu-central-1.amazonaws.com/t10k-images-idx3-ubyte.gz to /Users/haiyangwang/Datasets/FashionMNIST/FashionMNIST/raw/t10k-images-idx3-ubyte.gz\n"
     ]
    },
    {
     "name": "stderr",
     "output_type": "stream",
     "text": [
      "\n",
      "  0%|          | 0/4422102 [00:00<?, ?it/s]\u001b[A\n",
      "  0%|          | 16384/4422102 [00:00<00:51, 85773.90it/s]\u001b[A\n",
      "  1%|          | 40960/4422102 [00:00<00:41, 106529.70it/s]\u001b[A\n",
      "  2%|▏         | 98304/4422102 [00:00<00:32, 134349.21it/s]\u001b[A\n",
      "  4%|▎         | 155648/4422102 [00:01<00:25, 164381.60it/s]\u001b[A\n",
      "  5%|▌         | 221184/4422102 [00:01<00:22, 187587.62it/s]\u001b[A\n",
      "  6%|▋         | 286720/4422102 [00:01<00:18, 222443.72it/s]\u001b[A\n",
      "  8%|▊         | 352256/4422102 [00:01<00:15, 255515.35it/s]\u001b[A\n",
      " 10%|▉         | 425984/4422102 [00:01<00:13, 292279.00it/s]\u001b[A\n",
      " 11%|█▏        | 499712/4422102 [00:01<00:12, 325074.09it/s]\u001b[A\n",
      " 13%|█▎        | 573440/4422102 [00:02<00:10, 353718.61it/s]\u001b[A\n",
      " 15%|█▍        | 655360/4422102 [00:02<00:09, 386208.43it/s]\u001b[A\n",
      " 17%|█▋        | 745472/4422102 [00:02<00:08, 421512.96it/s]\u001b[A\n",
      " 19%|█▊        | 827392/4422102 [00:02<00:08, 441016.51it/s]\u001b[A\n",
      " 21%|██        | 925696/4422102 [00:02<00:07, 474671.18it/s]\u001b[A\n",
      " 23%|██▎       | 1024000/4422102 [00:02<00:06, 503904.12it/s]\u001b[A\n",
      " 25%|██▌       | 1122304/4422102 [00:03<00:06, 526637.37it/s]\u001b[A\n",
      " 28%|██▊       | 1220608/4422102 [00:03<00:05, 544005.27it/s]\u001b[A\n",
      " 30%|██▉       | 1310720/4422102 [00:03<00:05, 615507.53it/s]\u001b[A\n",
      " 32%|███▏      | 1425408/4422102 [00:03<00:04, 632975.06it/s]\u001b[A\n",
      " 35%|███▍      | 1540096/4422102 [00:03<00:04, 648246.13it/s]\u001b[A\n",
      " 38%|███▊      | 1662976/4422102 [00:03<00:04, 671823.33it/s]\u001b[A\n",
      " 41%|████      | 1794048/4422102 [00:04<00:03, 701336.97it/s]\u001b[A\n",
      " 44%|████▎     | 1933312/4422102 [00:04<00:03, 733141.02it/s]\u001b[A\n",
      " 47%|████▋     | 2072576/4422102 [00:04<00:03, 757147.83it/s]\u001b[A\n",
      " 50%|█████     | 2228224/4422102 [00:04<00:02, 797647.84it/s]\u001b[A\n",
      " 54%|█████▍    | 2383872/4422102 [00:04<00:02, 834610.81it/s]\u001b[A\n",
      " 58%|█████▊    | 2547712/4422102 [00:04<00:02, 873016.00it/s]\u001b[A\n",
      " 62%|██████▏   | 2719744/4422102 [00:05<00:01, 915901.66it/s]\u001b[A\n",
      " 66%|██████▌   | 2899968/4422102 [00:05<00:01, 959264.93it/s]\u001b[A\n",
      " 70%|███████   | 3104768/4422102 [00:05<00:01, 1009115.00it/s]\u001b[A\n",
      " 75%|███████▍  | 3309568/4422102 [00:05<00:01, 1063906.91it/s]\u001b[A\n",
      " 79%|███████▉  | 3514368/4422102 [00:05<00:00, 1106247.35it/s]\u001b[A\n",
      " 84%|████████▍ | 3735552/4422102 [00:05<00:00, 1159330.32it/s]\u001b[A\n",
      " 90%|████████▉ | 3964928/4422102 [00:06<00:00, 1207278.93it/s]\u001b[A\n",
      "4423680it [00:06, 700255.94it/s]                              \u001b[A\n",
      "\n",
      "0it [00:00, ?it/s]\u001b[A"
     ]
    },
    {
     "name": "stdout",
     "output_type": "stream",
     "text": [
      "Extracting /Users/haiyangwang/Datasets/FashionMNIST/FashionMNIST/raw/t10k-images-idx3-ubyte.gz to /Users/haiyangwang/Datasets/FashionMNIST/FashionMNIST/raw\n",
      "Downloading http://fashion-mnist.s3-website.eu-central-1.amazonaws.com/t10k-labels-idx1-ubyte.gz to /Users/haiyangwang/Datasets/FashionMNIST/FashionMNIST/raw/t10k-labels-idx1-ubyte.gz\n"
     ]
    },
    {
     "name": "stderr",
     "output_type": "stream",
     "text": [
      "\n",
      "  0%|          | 0/5148 [00:00<?, ?it/s]\u001b[A"
     ]
    },
    {
     "name": "stdout",
     "output_type": "stream",
     "text": [
      "Extracting /Users/haiyangwang/Datasets/FashionMNIST/FashionMNIST/raw/t10k-labels-idx1-ubyte.gz to /Users/haiyangwang/Datasets/FashionMNIST/FashionMNIST/raw\n",
      "Processing...\n",
      "Done!\n",
      "epoch 1, loss 0.0031, train acc 0.700, test acc 0.770\n"
     ]
    },
    {
     "name": "stderr",
     "output_type": "stream",
     "text": [
      "\r",
      "26427392it [00:30, 6931347.04it/s]                              "
     ]
    },
    {
     "name": "stdout",
     "output_type": "stream",
     "text": [
      "epoch 2, loss 0.0019, train acc 0.820, test acc 0.810\n",
      "epoch 3, loss 0.0017, train acc 0.843, test acc 0.821\n",
      "epoch 4, loss 0.0015, train acc 0.856, test acc 0.827\n",
      "epoch 5, loss 0.0015, train acc 0.864, test acc 0.830\n"
     ]
    }
   ],
   "source": [
    "batch_size = 256\n",
    "train_iter, test_iter = d2l.load_data_fashion_mnist(batch_size)\n",
    "loss = torch.nn.CrossEntropyLoss()\n",
    "\n",
    "optimizer = torch.optim.SGD(net.parameters(), lr=0.5)\n",
    "\n",
    "num_epochs = 5\n",
    "d2l.train_ch3(net, train_iter, test_iter, loss, num_epochs, batch_size, None, None, optimizer)"
   ]
  },
  {
   "cell_type": "code",
   "execution_count": null,
   "metadata": {
    "collapsed": true
   },
   "outputs": [],
   "source": []
  }
 ],
 "metadata": {
  "kernelspec": {
   "display_name": "Python 3",
   "language": "python",
   "name": "python3"
  },
  "language_info": {
   "codemirror_mode": {
    "name": "ipython",
    "version": 3
   },
   "file_extension": ".py",
   "mimetype": "text/x-python",
   "name": "python",
   "nbconvert_exporter": "python",
   "pygments_lexer": "ipython3",
   "version": "3.7.4"
  },
  "toc": {
   "nav_menu": {},
   "number_sections": true,
   "sideBar": true,
   "skip_h1_title": false,
   "toc_cell": false,
   "toc_position": {},
   "toc_section_display": "block",
   "toc_window_display": false
  }
 },
 "nbformat": 4,
 "nbformat_minor": 2
}
